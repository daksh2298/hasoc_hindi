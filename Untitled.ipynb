{
 "cells": [
  {
   "cell_type": "code",
   "execution_count": 2,
   "metadata": {},
   "outputs": [],
   "source": [
    "import pandas as pd\n",
    "import sqlite3"
   ]
  },
  {
   "cell_type": "code",
   "execution_count": 35,
   "metadata": {},
   "outputs": [],
   "source": [
    "conn=sqlite3.connect(\"hasoc_english.db\")"
   ]
  },
  {
   "cell_type": "code",
   "execution_count": 36,
   "metadata": {},
   "outputs": [],
   "source": [
    "cursor=conn.cursor()"
   ]
  },
  {
   "cell_type": "code",
   "execution_count": 37,
   "metadata": {},
   "outputs": [],
   "source": [
    "df_english=pd.read_sql(\"SELECT * FROM annoted_tweets\",conn)"
   ]
  },
  {
   "cell_type": "code",
   "execution_count": 38,
   "metadata": {},
   "outputs": [
    {
     "name": "stdout",
     "output_type": "stream",
     "text": [
      "<class 'pandas.core.frame.DataFrame'>\n",
      "RangeIndex: 5861 entries, 0 to 5860\n",
      "Data columns (total 17 columns):\n",
      "id                5861 non-null int64\n",
      "tweet_id          5861 non-null object\n",
      "tweet             5861 non-null object\n",
      "daksh_hasoc       1942 non-null object\n",
      "aditya_hasoc      1145 non-null object\n",
      "dhruv_hasoc       184 non-null object\n",
      "spandan_hasoc     1054 non-null object\n",
      "meet_hasoc        1919 non-null object\n",
      "parth_hasoc       923 non-null object\n",
      "admin             841 non-null object\n",
      "mohana_hasoc      1637 non-null object\n",
      "devarshi_hasoc    71 non-null object\n",
      "daksh2_hasoc      687 non-null object\n",
      "lang              5861 non-null object\n",
      "bhargav_hasoc     79 non-null object\n",
      "suru_hasoc        1 non-null object\n",
      "kush_hasoc        1088 non-null object\n",
      "dtypes: int64(1), object(16)\n",
      "memory usage: 778.5+ KB\n"
     ]
    }
   ],
   "source": [
    "df_english.info()"
   ]
  },
  {
   "cell_type": "code",
   "execution_count": null,
   "metadata": {},
   "outputs": [],
   "source": []
  }
 ],
 "metadata": {
  "kernelspec": {
   "display_name": "Python 3",
   "language": "python",
   "name": "python3"
  },
  "language_info": {
   "codemirror_mode": {
    "name": "ipython",
    "version": 3
   },
   "file_extension": ".py",
   "mimetype": "text/x-python",
   "name": "python",
   "nbconvert_exporter": "python",
   "pygments_lexer": "ipython3",
   "version": "3.6.8"
  }
 },
 "nbformat": 4,
 "nbformat_minor": 2
}
